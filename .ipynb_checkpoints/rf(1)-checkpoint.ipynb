{
 "cells": [
  {
   "cell_type": "code",
   "execution_count": 2,
   "id": "14f7ec59-d825-4c5d-b9a2-5d22474407eb",
   "metadata": {},
   "outputs": [],
   "source": [
    "import pandas as pd\n",
    "import numpy as np\n",
    "import matplotlib.pyplot as plt\n",
    "from sklearn.model_selection import train_test_split, GridSearchCV\n",
    "from sklearn.ensemble import RandomForestClassifier\n",
    "from sklearn.metrics import classification_report, confusion_matrix,accuracy_score\n"
   ]
  },
  {
   "cell_type": "code",
   "execution_count": 3,
   "id": "63421b65-80c0-4a24-acd0-158560a56055",
   "metadata": {},
   "outputs": [
    {
     "data": {
      "text/html": [
       "<div>\n",
       "<style scoped>\n",
       "    .dataframe tbody tr th:only-of-type {\n",
       "        vertical-align: middle;\n",
       "    }\n",
       "\n",
       "    .dataframe tbody tr th {\n",
       "        vertical-align: top;\n",
       "    }\n",
       "\n",
       "    .dataframe thead th {\n",
       "        text-align: right;\n",
       "    }\n",
       "</style>\n",
       "<table border=\"1\" class=\"dataframe\">\n",
       "  <thead>\n",
       "    <tr style=\"text-align: right;\">\n",
       "      <th></th>\n",
       "      <th>Sl No</th>\n",
       "      <th>USN</th>\n",
       "      <th>Name</th>\n",
       "      <th>Title</th>\n",
       "      <th>P1</th>\n",
       "      <th>C1</th>\n",
       "      <th>P2</th>\n",
       "      <th>C2</th>\n",
       "      <th>P3</th>\n",
       "      <th>C3</th>\n",
       "      <th>R1</th>\n",
       "      <th>T1</th>\n",
       "      <th>P3T</th>\n",
       "      <th>Total</th>\n",
       "      <th>Grade</th>\n",
       "    </tr>\n",
       "  </thead>\n",
       "  <tbody>\n",
       "    <tr>\n",
       "      <th>0</th>\n",
       "      <td>1</td>\n",
       "      <td>1RV21MC001</td>\n",
       "      <td>ABHISHEK M</td>\n",
       "      <td>Generative AI Prompt Pipeline</td>\n",
       "      <td>78</td>\n",
       "      <td>15.6</td>\n",
       "      <td>85.0</td>\n",
       "      <td>34.0</td>\n",
       "      <td>93</td>\n",
       "      <td>18.6</td>\n",
       "      <td>13.0</td>\n",
       "      <td>4.0</td>\n",
       "      <td>35.6</td>\n",
       "      <td>85.2</td>\n",
       "      <td>A</td>\n",
       "    </tr>\n",
       "    <tr>\n",
       "      <th>1</th>\n",
       "      <td>2</td>\n",
       "      <td>1RV21MC002</td>\n",
       "      <td>ABHISHEK RANJANAGOUDA G</td>\n",
       "      <td>Android based Smart Vehicle Parking System usi...</td>\n",
       "      <td>84</td>\n",
       "      <td>16.8</td>\n",
       "      <td>82.0</td>\n",
       "      <td>32.8</td>\n",
       "      <td>77</td>\n",
       "      <td>15.4</td>\n",
       "      <td>15.0</td>\n",
       "      <td>5.0</td>\n",
       "      <td>35.4</td>\n",
       "      <td>85.0</td>\n",
       "      <td>A</td>\n",
       "    </tr>\n",
       "    <tr>\n",
       "      <th>2</th>\n",
       "      <td>3</td>\n",
       "      <td>1RV21MC003</td>\n",
       "      <td>ADARSH V MORYE</td>\n",
       "      <td>Sentimental Analysis for product ratings</td>\n",
       "      <td>84</td>\n",
       "      <td>16.8</td>\n",
       "      <td>82.0</td>\n",
       "      <td>32.8</td>\n",
       "      <td>88</td>\n",
       "      <td>17.6</td>\n",
       "      <td>13.0</td>\n",
       "      <td>1.0</td>\n",
       "      <td>31.6</td>\n",
       "      <td>81.2</td>\n",
       "      <td>A</td>\n",
       "    </tr>\n",
       "    <tr>\n",
       "      <th>3</th>\n",
       "      <td>4</td>\n",
       "      <td>1RV21MC004</td>\n",
       "      <td>AISHWARYA K KAMBLE</td>\n",
       "      <td>Analysis and Deployment of an efficient Deep L...</td>\n",
       "      <td>88</td>\n",
       "      <td>17.6</td>\n",
       "      <td>85.0</td>\n",
       "      <td>34.0</td>\n",
       "      <td>96</td>\n",
       "      <td>19.2</td>\n",
       "      <td>13.0</td>\n",
       "      <td>4.0</td>\n",
       "      <td>36.2</td>\n",
       "      <td>87.8</td>\n",
       "      <td>A</td>\n",
       "    </tr>\n",
       "    <tr>\n",
       "      <th>4</th>\n",
       "      <td>5</td>\n",
       "      <td>1RV21MC005</td>\n",
       "      <td>AISHWARYA NAGARAJ BABALESHWAR</td>\n",
       "      <td>Development of Deep Learning Model for Varied ...</td>\n",
       "      <td>84</td>\n",
       "      <td>16.8</td>\n",
       "      <td>82.0</td>\n",
       "      <td>32.8</td>\n",
       "      <td>77</td>\n",
       "      <td>15.4</td>\n",
       "      <td>15.0</td>\n",
       "      <td>5.0</td>\n",
       "      <td>35.4</td>\n",
       "      <td>85.0</td>\n",
       "      <td>A</td>\n",
       "    </tr>\n",
       "  </tbody>\n",
       "</table>\n",
       "</div>"
      ],
      "text/plain": [
       "   Sl No         USN                           Name   \\\n",
       "0       1  1RV21MC001                     ABHISHEK M   \n",
       "1       2  1RV21MC002        ABHISHEK RANJANAGOUDA G   \n",
       "2       3  1RV21MC003                 ADARSH V MORYE   \n",
       "3       4  1RV21MC004             AISHWARYA K KAMBLE   \n",
       "4       5  1RV21MC005  AISHWARYA NAGARAJ BABALESHWAR   \n",
       "\n",
       "                                              Title   P1     C1    P2    C2  \\\n",
       "0                      Generative AI Prompt Pipeline   78  15.6  85.0  34.0   \n",
       "1  Android based Smart Vehicle Parking System usi...   84  16.8  82.0  32.8   \n",
       "2          Sentimental Analysis for product ratings    84  16.8  82.0  32.8   \n",
       "3  Analysis and Deployment of an efficient Deep L...   88  17.6  85.0  34.0   \n",
       "4  Development of Deep Learning Model for Varied ...   84  16.8  82.0  32.8   \n",
       "\n",
       "   P3    C3    R1   T1   P3T  Total  Grade  \n",
       "0  93  18.6  13.0  4.0  35.6    85.2     A  \n",
       "1  77  15.4  15.0  5.0  35.4    85.0     A  \n",
       "2  88  17.6  13.0  1.0  31.6    81.2     A  \n",
       "3  96  19.2  13.0  4.0  36.2    87.8     A  \n",
       "4  77  15.4  15.0  5.0  35.4    85.0     A  "
      ]
     },
     "execution_count": 3,
     "metadata": {},
     "output_type": "execute_result"
    }
   ],
   "source": [
    "df = pd.read_excel(\"./random_forest_dataset.xlsx\",header=1)\n",
    "df.head()"
   ]
  },
  {
   "cell_type": "code",
   "execution_count": 4,
   "id": "95601c91-516a-4545-ada0-f9d85ebc1f2a",
   "metadata": {},
   "outputs": [
    {
     "data": {
      "text/plain": [
       "Sl No     0\n",
       "USN       0\n",
       "Name      0\n",
       "Title     1\n",
       "P1        0\n",
       "C1        0\n",
       "P2        0\n",
       "C2        0\n",
       "P3        0\n",
       "C3        0\n",
       "R1        8\n",
       "T1        8\n",
       "P3T       0\n",
       "Total     0\n",
       "Grade     8\n",
       "dtype: int64"
      ]
     },
     "execution_count": 4,
     "metadata": {},
     "output_type": "execute_result"
    }
   ],
   "source": [
    "df.isnull().sum()\n",
    "\n"
   ]
  },
  {
   "cell_type": "code",
   "execution_count": 17,
   "id": "2a3760e6-7b06-4927-a0e2-6e021d1f0cbb",
   "metadata": {},
   "outputs": [
    {
     "data": {
      "text/plain": [
       "Index(['Sl No ', 'USN ', 'Name ', 'Title ', 'P1 ', 'C1', 'P2', 'C2', 'P3',\n",
       "       'C3', 'R1', 'T1', 'P3T', 'Total ', 'Grade'],\n",
       "      dtype='object')"
      ]
     },
     "execution_count": 17,
     "metadata": {},
     "output_type": "execute_result"
    }
   ],
   "source": [
    "df.columns"
   ]
  },
  {
   "cell_type": "code",
   "execution_count": 18,
   "id": "ac5e28a4-2881-40f6-bb06-802f6a27f0db",
   "metadata": {},
   "outputs": [],
   "source": [
    "# handle outliers \n",
    "df.dropna(inplace=True)\n",
    "# there is this extra space after the column names \n",
    "x = df.drop(['Sl No ',\"USN \",\"Name \",\"Title \",\"Grade\"],axis=1)\n",
    "y = df.Grade"
   ]
  },
  {
   "cell_type": "code",
   "execution_count": 19,
   "id": "63bb0016-d031-43f1-b548-bb24d80b1975",
   "metadata": {},
   "outputs": [
    {
     "data": {
      "text/html": [
       "<div>\n",
       "<style scoped>\n",
       "    .dataframe tbody tr th:only-of-type {\n",
       "        vertical-align: middle;\n",
       "    }\n",
       "\n",
       "    .dataframe tbody tr th {\n",
       "        vertical-align: top;\n",
       "    }\n",
       "\n",
       "    .dataframe thead th {\n",
       "        text-align: right;\n",
       "    }\n",
       "</style>\n",
       "<table border=\"1\" class=\"dataframe\">\n",
       "  <thead>\n",
       "    <tr style=\"text-align: right;\">\n",
       "      <th></th>\n",
       "      <th>P1</th>\n",
       "      <th>C1</th>\n",
       "      <th>P2</th>\n",
       "      <th>C2</th>\n",
       "      <th>P3</th>\n",
       "      <th>C3</th>\n",
       "      <th>R1</th>\n",
       "      <th>T1</th>\n",
       "      <th>P3T</th>\n",
       "      <th>Total</th>\n",
       "    </tr>\n",
       "  </thead>\n",
       "  <tbody>\n",
       "    <tr>\n",
       "      <th>0</th>\n",
       "      <td>78</td>\n",
       "      <td>15.6</td>\n",
       "      <td>85.0</td>\n",
       "      <td>34.0</td>\n",
       "      <td>93</td>\n",
       "      <td>18.6</td>\n",
       "      <td>13.0</td>\n",
       "      <td>4.0</td>\n",
       "      <td>35.6</td>\n",
       "      <td>85.2</td>\n",
       "    </tr>\n",
       "    <tr>\n",
       "      <th>1</th>\n",
       "      <td>84</td>\n",
       "      <td>16.8</td>\n",
       "      <td>82.0</td>\n",
       "      <td>32.8</td>\n",
       "      <td>77</td>\n",
       "      <td>15.4</td>\n",
       "      <td>15.0</td>\n",
       "      <td>5.0</td>\n",
       "      <td>35.4</td>\n",
       "      <td>85.0</td>\n",
       "    </tr>\n",
       "    <tr>\n",
       "      <th>2</th>\n",
       "      <td>84</td>\n",
       "      <td>16.8</td>\n",
       "      <td>82.0</td>\n",
       "      <td>32.8</td>\n",
       "      <td>88</td>\n",
       "      <td>17.6</td>\n",
       "      <td>13.0</td>\n",
       "      <td>1.0</td>\n",
       "      <td>31.6</td>\n",
       "      <td>81.2</td>\n",
       "    </tr>\n",
       "    <tr>\n",
       "      <th>3</th>\n",
       "      <td>88</td>\n",
       "      <td>17.6</td>\n",
       "      <td>85.0</td>\n",
       "      <td>34.0</td>\n",
       "      <td>96</td>\n",
       "      <td>19.2</td>\n",
       "      <td>13.0</td>\n",
       "      <td>4.0</td>\n",
       "      <td>36.2</td>\n",
       "      <td>87.8</td>\n",
       "    </tr>\n",
       "    <tr>\n",
       "      <th>4</th>\n",
       "      <td>84</td>\n",
       "      <td>16.8</td>\n",
       "      <td>82.0</td>\n",
       "      <td>32.8</td>\n",
       "      <td>77</td>\n",
       "      <td>15.4</td>\n",
       "      <td>15.0</td>\n",
       "      <td>5.0</td>\n",
       "      <td>35.4</td>\n",
       "      <td>85.0</td>\n",
       "    </tr>\n",
       "  </tbody>\n",
       "</table>\n",
       "</div>"
      ],
      "text/plain": [
       "   P1     C1    P2    C2  P3    C3    R1   T1   P3T  Total \n",
       "0   78  15.6  85.0  34.0  93  18.6  13.0  4.0  35.6    85.2\n",
       "1   84  16.8  82.0  32.8  77  15.4  15.0  5.0  35.4    85.0\n",
       "2   84  16.8  82.0  32.8  88  17.6  13.0  1.0  31.6    81.2\n",
       "3   88  17.6  85.0  34.0  96  19.2  13.0  4.0  36.2    87.8\n",
       "4   84  16.8  82.0  32.8  77  15.4  15.0  5.0  35.4    85.0"
      ]
     },
     "execution_count": 19,
     "metadata": {},
     "output_type": "execute_result"
    }
   ],
   "source": [
    "x.head()\n"
   ]
  },
  {
   "cell_type": "code",
   "execution_count": 20,
   "id": "6c654028-f94d-4f4b-9243-ab49ac1f0497",
   "metadata": {},
   "outputs": [],
   "source": [
    "from sklearn.preprocessing import LabelEncoder\n",
    "\n",
    "label_encoder = LabelEncoder()\n",
    "y = label_encoder.fit_transform(df['Grade'])"
   ]
  },
  {
   "cell_type": "code",
   "execution_count": 21,
   "id": "6ac099a0-40e2-453b-a545-d679181b51b5",
   "metadata": {},
   "outputs": [],
   "source": [
    "x_train,x_test,y_train,y_test = train_test_split(x,y,test_size=0.3)\n"
   ]
  },
  {
   "cell_type": "code",
   "execution_count": 22,
   "id": "32029db5-a984-4d5c-907d-70a6344de305",
   "metadata": {},
   "outputs": [
    {
     "name": "stdout",
     "output_type": "stream",
     "text": [
      "Total     0.271202\n",
      "C2        0.163588\n",
      "P2        0.151429\n",
      "P1        0.101015\n",
      "C1        0.090010\n",
      "P3T       0.089018\n",
      "P3        0.039376\n",
      "C3        0.037869\n",
      "R1        0.034895\n",
      "T1        0.021598\n",
      "dtype: float64\n"
     ]
    },
    {
     "data": {
      "image/png": "[encoded data removed]",
      "text/plain": [
       "<Figure size 1000x600 with 1 Axes>"
      ]
     },
     "metadata": {},
     "output_type": "display_data"
    }
   ],
   "source": [
    "rf = RandomForestClassifier(random_state=42)\n",
    "rf.fit(x_train,y_train)\n",
    "\n",
    "feature_importances = pd.Series(rf.feature_importances_, index=x.columns).sort_values(ascending=False)\n",
    "print(feature_importances)\n",
    "plt.figure(figsize=(10, 6))\n",
    "feature_importances.plot(kind='bar')\n",
    "plt.xlabel('Feature')\n",
    "plt.ylabel('Importance')\n",
    "plt.title('Feature Importance')\n",
    "plt.show()"
   ]
  },
  {
   "cell_type": "code",
   "execution_count": null,
   "id": "f4fcb6dc-c5ba-4051-9981-6e91b942199c",
   "metadata": {},
   "outputs": [
    {
     "name": "stdout",
     "output_type": "stream",
     "text": [
      "Fitting 5 folds for each of 81 candidates, totalling 405 fits\n"
     ]
    },
    {
     "name": "stderr",
     "output_type": "stream",
     "text": [
      "/home/aditya/.local/lib/python3.10/site-packages/sklearn/model_selection/_split.py:805: UserWarning: The least populated class in y has only 4 members, which is less than n_splits=5.\n",
      "  warnings.warn(\n"
     ]
    }
   ],
   "source": [
    "from sklearn.model_selection import GridSearchCV\n",
    "from sklearn.ensemble import RandomForestClassifier\n",
    "\n",
    "# Define the parameter grid correctly\n",
    "param_grid = {\n",
    "    'n_estimators': [100, 200, 300],  # Fixed key name\n",
    "    'max_depth': [10, 20, 30],\n",
    "    'min_samples_split': [2, 5, 10],\n",
    "    'min_samples_leaf': [1, 2, 4]  # Fixed \"min_samples_lear\" typo\n",
    "}\n",
    "\n",
    "grid_search = GridSearchCV(estimator=rf, param_grid = param_grid, cv=5, n_jobs=-1,verbose=1)\n",
    "\n",
    "grid_search.fit(x_train,y_train)"
   ]
  },
  {
   "cell_type": "code",
   "execution_count": null,
   "id": "6c27a66d-2f4d-48a0-ba9b-fdaf9e6bb7af",
   "metadata": {},
   "outputs": [],
   "source": [
    "best_params = grid_search.best_params_\n",
    "best_params"
   ]
  },
  {
   "cell_type": "code",
   "execution_count": null,
   "id": "7e2fc9fd-b23e-430c-a326-3a939e8a2d1a",
   "metadata": {},
   "outputs": [],
   "source": [
    "best_rf = RandomForestClassifier(random_state=42,**best_params)\n",
    "best_rf.fit(x_train,y_train)\n",
    "y_pred = best_rf.predict(x_test)"
   ]
  },
  {
   "cell_type": "code",
   "execution_count": null,
   "id": "be1f296a-df78-4de3-8b8f-1a3d4edc3b90",
   "metadata": {},
   "outputs": [],
   "source": [
    "import matplotlib.pyplot as plt\n",
    "import seaborn as sns\n",
    "from sklearn.metrics import (\n",
    "    accuracy_score, precision_score, recall_score, f1_score, confusion_matrix, \n",
    "    classification_report\n",
    ")\n"
   ]
  },
  {
   "cell_type": "code",
   "execution_count": null,
   "id": "b50d5f26-6428-42e9-9593-697069cf46d5",
   "metadata": {},
   "outputs": [],
   "source": [
    "# Print metrics\n",
    "accuracy = accuracy_score(y_test, y_pred)\n",
    "precision = precision_score(y_test, y_pred, average='weighted')\n",
    "recall = recall_score(y_test, y_pred, average='weighted')\n",
    "f1 = f1_score(y_test, y_pred, average='weighted')\n",
    "\n",
    "print(f\"🔹 Accuracy: {accuracy:.4f}\")\n",
    "print(f\"🔹 Precision: {precision:.4f}\")\n",
    "print(f\"🔹 Recall: {recall:.4f}\")\n",
    "print(f\"🔹 F1 Score: {f1:.4f}\")\n",
    "\n",
    "# Print classification report\n",
    "print(\"\\n🔹 Classification Report:\\n\", classification_report(y_test, y_pred))\n"
   ]
  },
  {
   "cell_type": "code",
   "execution_count": null,
   "id": "74a54f82-969f-4b03-9453-d8f6fdad5ef8",
   "metadata": {},
   "outputs": [],
   "source": [
    "# Confusion matrix\n",
    "cm = confusion_matrix(y_test, y_pred)\n",
    "\n",
    "plt.figure(figsize=(6,4))\n",
    "sns.heatmap(cm, annot=True, fmt=\"d\", cmap=\"Blues\", xticklabels=np.unique(y_test), yticklabels=np.unique(y_test))\n",
    "plt.xlabel(\"Predicted Label\")\n",
    "plt.ylabel(\"True Label\")\n",
    "plt.title(\"Confusion Matrix\")\n",
    "plt.show()\n"
   ]
  },
  {
   "cell_type": "code",
   "execution_count": null,
   "id": "6965cfb3-416c-4e4e-9f09-1e11b25e16f4",
   "metadata": {},
   "outputs": [],
   "source": []
  },
  {
   "cell_type": "code",
   "execution_count": null,
   "id": "e2072047-7ced-46ad-aead-e0c54e66e92e",
   "metadata": {},
   "outputs": [],
   "source": []
  },
  {
   "cell_type": "code",
   "execution_count": null,
   "id": "e67a2100-5e31-4f6c-8315-3de3f23e4edd",
   "metadata": {},
   "outputs": [],
   "source": []
  }
 ],
 "metadata": {
  "kernelspec": {
   "display_name": "Python 3 (ipykernel)",
   "language": "python",
   "name": "python3"
  },
  "language_info": {
   "codemirror_mode": {
    "name": "ipython",
    "version": 3
   },
   "file_extension": ".py",
   "mimetype": "text/x-python",
   "name": "python",
   "nbconvert_exporter": "python",
   "pygments_lexer": "ipython3",
   "version": "3.10.12"
  }
 },
 "nbformat": 4,
 "nbformat_minor": 5
}
